{
 "cells": [
  {
   "cell_type": "code",
   "execution_count": null,
   "metadata": {},
   "outputs": [],
   "source": [
    "import numpy as np\n",
    "import pandas as pd\n",
    "\n",
    "# Uses `Distribution`, `run_de`, and `fitness` in the file\n",
    "from method import *\n",
    "\n",
    "# Clean up the output\n",
    "np.set_printoptions(precision=2, suppress=True)\n",
    "\n",
    "# Random seed for reproducibility\n",
    "SEED = 20241225"
   ]
  },
  {
   "cell_type": "markdown",
   "metadata": {},
   "source": [
    "## Real data experiments in the paper\n",
    "This file illustrates how to replicate the real data experiments, which is very similar to the instruction given in `Readme.md`\n",
    "\n",
    "Assume that the CGM data from Shah et al. (2019) and Brown et al. (2019) are accessed and processed as guided in the [Awesome-CGM](https://github.com/IrinaStatsLab/Awesome-CGM) repository, saved in `./data/shah2019_filtered.csv` and `./data/brown2019_filtered.csv`. \n",
    "\n",
    "These datasets are measured by Dexcom G6, having glucose ranges from 39 mg/dL to 401 mg/dL.\n",
    "\n",
    "As the differential evolution (DE) is a stochastic algorithm, we fix `SEED=20241225` to reproduce the experimental results illustrated in the paper. "
   ]
  },
  {
   "cell_type": "code",
   "execution_count": null,
   "metadata": {},
   "outputs": [],
   "source": [
    "# Load data\n",
    "data_shah = pd.read_csv(\"./data/shah2019_filtered.csv\")\n",
    "grouped_data_shah = data_shah.groupby('id').agg({'gl': list}).reset_index()\n",
    "data_class_shah = Distribution(grouped_data_shah[\"gl\"], ran=(39., 401.), M=200)\n",
    "\n",
    "data_brown = pd.read_csv(\"./data/brown2019_filtered.csv\")\n",
    "grouped_data_brown = data_brown.groupby('id').agg({'gl': list}).reset_index()\n",
    "data_class_brown = Distribution(grouped_data_brown[\"gl\"], ran=(39., 401.), M=200)"
   ]
  },
  {
   "cell_type": "markdown",
   "metadata": {},
   "source": [
    "After making data into `Distribution` classes, we can run `run_de` with specified target number of thresholds `K` and the threshold-optimality criteria: `loss=\"Loss1\"` or `loss=\"Loss2\"`. \n",
    "\n",
    "If you want to see the optimization progress, set `disp=True` in the `run_de` function. The function typically takes a couple of minutes, depending on the device.\n",
    "\n",
    "Experiments conducted in the paper are given below."
   ]
  },
  {
   "cell_type": "markdown",
   "metadata": {},
   "source": [
    "### Shah dataset"
   ]
  },
  {
   "cell_type": "markdown",
   "metadata": {},
   "source": [
    "##### $L_1$ loss"
   ]
  },
  {
   "cell_type": "code",
   "execution_count": null,
   "metadata": {},
   "outputs": [
    {
     "name": "stdout",
     "output_type": "stream",
     "text": [
      "Cutoffs: [ 75.83 100.69 123.7  154.96]\n",
      "Obtained loss: 16.619439163631053\n"
     ]
    }
   ],
   "source": [
    "# Selecting K=4 thresholds\n",
    "best_cutoffs, min_loss = run_de(data_class_shah, K=4, loss=\"Loss1\", seed=SEED)\n",
    "print(\"Cutoffs:\", best_cutoffs[1:-1])\n",
    "print(\"Obtained loss:\", min_loss)"
   ]
  },
  {
   "cell_type": "code",
   "execution_count": null,
   "metadata": {},
   "outputs": [
    {
     "name": "stdout",
     "output_type": "stream",
     "text": [
      "Cutoffs: [ 71.69 127.91]\n",
      "Obtained loss: 88.90773604650336\n"
     ]
    }
   ],
   "source": [
    "# Selecting K=2 thresholds\n",
    "best_cutoffs, min_loss = run_de(data_class_shah, K=2, loss=\"Loss1\", seed=SEED)\n",
    "print(\"Cutoffs:\", best_cutoffs[1:-1])\n",
    "print(\"Obtained loss:\", min_loss)"
   ]
  },
  {
   "cell_type": "markdown",
   "metadata": {},
   "source": [
    "##### $L_2$ loss (supplementary)"
   ]
  },
  {
   "cell_type": "code",
   "execution_count": null,
   "metadata": {},
   "outputs": [
    {
     "name": "stdout",
     "output_type": "stream",
     "text": [
      "Cutoffs: [ 76.73 106.9  138.1  176.66]\n",
      "Obtained loss (x 10^{-3}): 0.7120189776106792\n"
     ]
    }
   ],
   "source": [
    "# Selecting K=4 thresholds\n",
    "best_cutoffs2, min_loss2 = run_de(data_class_shah, K=4, loss=\"Loss2\", seed=SEED)\n",
    "print(\"Cutoffs:\", best_cutoffs2[1:-1])\n",
    "print(\"Obtained loss (x 10^{-3}):\", min_loss2 / 1000)"
   ]
  },
  {
   "cell_type": "code",
   "execution_count": null,
   "metadata": {},
   "outputs": [
    {
     "name": "stdout",
     "output_type": "stream",
     "text": [
      "Cutoffs: [123.58 163.03]\n",
      "Obtained loss (x 10^{-3}): 11.585229903028312\n"
     ]
    }
   ],
   "source": [
    "# Selecting K=2 thresholds\n",
    "best_cutoffs2, min_loss2 = run_de(data_class_shah, K=2, loss=\"Loss2\", seed=SEED)\n",
    "print(\"Cutoffs:\", best_cutoffs2[1:-1])\n",
    "print(\"Obtained loss (x 10^{-3}):\", min_loss2 / 1000)"
   ]
  },
  {
   "cell_type": "markdown",
   "metadata": {},
   "source": [
    "### Brown dataset"
   ]
  },
  {
   "cell_type": "markdown",
   "metadata": {},
   "source": [
    "##### $L_1$ loss"
   ]
  },
  {
   "cell_type": "code",
   "execution_count": null,
   "metadata": {},
   "outputs": [
    {
     "name": "stdout",
     "output_type": "stream",
     "text": [
      "Cutoffs: [ 84.88 171.2  232.62 301.58]\n",
      "Obtained loss: 41.215727144747326\n"
     ]
    }
   ],
   "source": [
    "# Selecting K=4 thresholds\n",
    "best_cutoffs, min_loss = run_de(data_class_brown, K=4, loss=\"Loss1\", seed=SEED)\n",
    "print(\"Cutoffs:\", best_cutoffs[1:-1])\n",
    "print(\"Obtained loss:\", min_loss)"
   ]
  },
  {
   "cell_type": "code",
   "execution_count": null,
   "metadata": {},
   "outputs": [
    {
     "name": "stdout",
     "output_type": "stream",
     "text": [
      "Cutoffs: [210.48 288.43]\n",
      "Obtained loss: 398.2131637666346\n"
     ]
    }
   ],
   "source": [
    "# Selecting K=2 thresholds\n",
    "best_cutoffs, min_loss = run_de(data_class_brown, K=2, loss=\"Loss1\", seed=SEED)\n",
    "print(\"Cutoffs:\", best_cutoffs[1:-1])\n",
    "print(\"Obtained loss:\", min_loss)"
   ]
  },
  {
   "cell_type": "markdown",
   "metadata": {},
   "source": [
    "##### Semi-supervised, fixing 70 and 181 mg/dL"
   ]
  },
  {
   "cell_type": "code",
   "execution_count": null,
   "metadata": {},
   "outputs": [
    {
     "name": "stdout",
     "output_type": "stream",
     "text": [
      "Cutoffs: [ 70.   181.   240.9  305.95]\n",
      "Obtained loss: 64.05054061137514\n"
     ]
    }
   ],
   "source": [
    "# Selecting K=2 additional thresholds (4 thresholds total)\n",
    "best_cutoffs, min_loss = run_de(data_class_brown, K=2, loss=\"Loss1\", seed=SEED, fixed=(70, 181))\n",
    "print(\"Cutoffs:\", best_cutoffs[1:-1])\n",
    "print(\"Obtained loss:\", min_loss)"
   ]
  },
  {
   "cell_type": "markdown",
   "metadata": {},
   "source": [
    "##### $L_2$ loss (supplementary)"
   ]
  },
  {
   "cell_type": "code",
   "execution_count": null,
   "metadata": {},
   "outputs": [
    {
     "name": "stdout",
     "output_type": "stream",
     "text": [
      "Cutoffs: [168.89 249.13 294.49 351.83]\n",
      "Obtained loss (x 10^{-3}): 30.808015190380164\n"
     ]
    }
   ],
   "source": [
    "# Selecting K=4 thresholds\n",
    "best_cutoffs2, min_loss2 = run_de(data_class_brown, K=4, loss=\"Loss2\", seed=SEED)\n",
    "print(\"Cutoffs:\", best_cutoffs2[1:-1])\n",
    "print(\"Obtained loss (x 10^{-3}):\", min_loss2 / 1000)"
   ]
  },
  {
   "cell_type": "code",
   "execution_count": null,
   "metadata": {},
   "outputs": [
    {
     "name": "stdout",
     "output_type": "stream",
     "text": [
      "Cutoffs: [184.69 284.77]\n",
      "Obtained loss (x 10^{-3}): 63.28056823880764\n"
     ]
    }
   ],
   "source": [
    "# Selecting K=2 thresholds\n",
    "best_cutoffs2, min_loss2 = run_de(data_class_brown, K=2, loss=\"Loss2\", seed=SEED)\n",
    "print(\"Cutoffs:\", best_cutoffs2[1:-1])\n",
    "print(\"Obtained loss (x 10^{-3}):\", min_loss2 / 1000)"
   ]
  },
  {
   "cell_type": "markdown",
   "metadata": {},
   "source": [
    "### Combined data"
   ]
  },
  {
   "cell_type": "code",
   "execution_count": null,
   "metadata": {},
   "outputs": [],
   "source": [
    "data_concat = pd.concat([grouped_data_shah, grouped_data_brown], ignore_index=True)\n",
    "data_class_concat = Distribution(data_concat[\"gl\"], ran=(39., 401.), M=200)"
   ]
  },
  {
   "cell_type": "markdown",
   "metadata": {},
   "source": [
    "##### $L_2$ loss"
   ]
  },
  {
   "cell_type": "markdown",
   "metadata": {},
   "source": [
    "Selecting $K=2$ thresholds"
   ]
  },
  {
   "cell_type": "code",
   "execution_count": null,
   "metadata": {},
   "outputs": [
    {
     "name": "stdout",
     "output_type": "stream",
     "text": [
      "Cutoffs: [148.02 255.87]\n",
      "Obtained loss (x 10^{-3}): 395.39153325586994\n"
     ]
    }
   ],
   "source": [
    "# Selecting K=2 thresholds\n",
    "best_cutoffs2, min_loss2 = run_de(data_class_concat, K=2, loss=\"Loss2\", seed=SEED)\n",
    "print(\"Cutoffs:\", best_cutoffs2[1:-1])\n",
    "print(\"Obtained loss (x 10^{-3}):\", min_loss2 / 1000)"
   ]
  },
  {
   "cell_type": "markdown",
   "metadata": {},
   "source": [
    "$K=4$ (supplementary)"
   ]
  },
  {
   "cell_type": "code",
   "execution_count": null,
   "metadata": {},
   "outputs": [
    {
     "name": "stdout",
     "output_type": "stream",
     "text": [
      "Cutoffs: [127.75 192.86 246.25 311.57]\n",
      "Obtained loss (x 10^{-3}): 154.46696259920486\n"
     ]
    }
   ],
   "source": [
    "# Selecting K=4 thresholds\n",
    "best_cutoffs2, min_loss2 = run_de(data_class_concat, K=4, loss=\"Loss2\", seed=SEED)\n",
    "print(\"Cutoffs:\", best_cutoffs2[1:-1])\n",
    "print(\"Obtained loss (x 10^{-3}):\", min_loss2 / 1000)"
   ]
  },
  {
   "cell_type": "markdown",
   "metadata": {},
   "source": [
    "##### $L_1$ loss (supplementary)"
   ]
  },
  {
   "cell_type": "code",
   "execution_count": null,
   "metadata": {},
   "outputs": [
    {
     "name": "stdout",
     "output_type": "stream",
     "text": [
      "Cutoffs: [132.34 246.28]\n",
      "Obtained loss: 309.3412821689561\n"
     ]
    }
   ],
   "source": [
    "# Selecting K=2 thresholds\n",
    "best_cutoffs, min_loss = run_de(data_class_concat, K=2, loss=\"Loss1\", seed=SEED)\n",
    "print(\"Cutoffs:\", best_cutoffs[1:-1])\n",
    "print(\"Obtained loss:\", min_loss)"
   ]
  },
  {
   "cell_type": "code",
   "execution_count": null,
   "metadata": {},
   "outputs": [
    {
     "name": "stdout",
     "output_type": "stream",
     "text": [
      "Cutoffs: [ 76.16 123.44 194.02 279.28]\n",
      "Obtained loss: 66.98148242930007\n"
     ]
    }
   ],
   "source": [
    "# Selecting K=4 thresholds\n",
    "best_cutoffs, min_loss = run_de(data_class_concat, K=4, loss=\"Loss1\", seed=SEED)\n",
    "print(\"Cutoffs:\", best_cutoffs[1:-1])\n",
    "print(\"Obtained loss:\", min_loss)"
   ]
  },
  {
   "cell_type": "markdown",
   "metadata": {},
   "source": [
    "### Optimality measures at the traditional thresholds"
   ]
  },
  {
   "cell_type": "code",
   "execution_count": null,
   "metadata": {},
   "outputs": [
    {
     "name": "stdout",
     "output_type": "stream",
     "text": [
      "Shah dataset\n",
      "    L1 at two traditional: 656.8785795451477\n",
      "    L1 at four traditional: 655.939314472095\n",
      "    L2 at two traditional: 28.32808440253849 (multiplied by 10^{-3})\n",
      "    L2 at four traditional: 28.801864648312193 (multiplied by 10^{-3})\n",
      "\n",
      "Brown dataset\n",
      "    L1 at two traditional: 1235.9789988634705\n",
      "    L1 at four traditional: 159.90153344550367\n",
      "    L2 at two traditional: 1450.9149694569626 (multiplied by 10^{-3})\n",
      "    L2 at four traditional: 92.74154648603994 (multiplied by 10^{-3})\n",
      "\n",
      "Concatenated dataset\n",
      "    L2 at two traditional: 2430.0156676593133 (multiplied by 10^{-3})\n",
      "    L2 at four traditional: 2971.452506196784 (multiplied by 10^{-3})\n",
      "    L1 at two traditional: 946.428789204309\n",
      "    L1 at four traditional: 407.92042395879935\n"
     ]
    }
   ],
   "source": [
    "print(\"Shah dataset\")\n",
    "print(\"    L1 at two traditional:\", fitness([70, 181], data_class_shah, loss=\"Loss1\"))\n",
    "print(\"    L1 at four traditional:\", fitness([54, 70, 181, 251], data_class_shah, loss=\"Loss1\"))\n",
    "\n",
    "# Precompute the Wasserstein distance matrix for L2 loss calculation\n",
    "data_class_shah.Wdist_matrix()\n",
    "print(\"    L2 at two traditional:\", fitness([70, 181], data_class_shah, loss=\"Loss2\") / 1000, \"(multiplied by 10^{-3})\")\n",
    "print(\"    L2 at four traditional:\", fitness([54, 70, 181, 251], data_class_shah, loss=\"Loss2\") / 1000, \"(multiplied by 10^{-3})\")\n",
    "\n",
    "print(\"\\nBrown dataset\")\n",
    "print(\"    L1 at two traditional:\", fitness([70, 181], data_class_brown, loss=\"Loss1\"))\n",
    "print(\"    L1 at four traditional:\", fitness([54, 70, 181, 251], data_class_brown, loss=\"Loss1\"))\n",
    "data_class_brown.Wdist_matrix()\n",
    "print(\"    L2 at two traditional:\", fitness([70, 181], data_class_brown, loss=\"Loss2\") / 1000, \"(multiplied by 10^{-3})\")\n",
    "print(\"    L2 at four traditional:\", fitness([54, 70, 181, 251], data_class_brown, loss=\"Loss2\") / 1000, \"(multiplied by 10^{-3})\")\n",
    "\n",
    "print(\"\\nConcatenated dataset\")\n",
    "data_class_concat.Wdist_matrix()\n",
    "print(\"    L2 at two traditional:\", fitness([70, 181], data_class_concat, loss=\"Loss2\") / 1000, \"(multiplied by 10^{-3})\")\n",
    "print(\"    L2 at four traditional:\", fitness([54, 70, 181, 251], data_class_concat, loss=\"Loss2\") / 1000, \"(multiplied by 10^{-3})\")\n",
    "print(\"    L1 at two traditional:\", fitness([70, 181], data_class_concat, loss=\"Loss1\"))\n",
    "print(\"    L1 at four traditional:\", fitness([54, 70, 181, 251], data_class_concat, loss=\"Loss1\"))"
   ]
  }
 ],
 "metadata": {
  "kernelspec": {
   "display_name": "TF",
   "language": "python",
   "name": "python3"
  },
  "language_info": {
   "codemirror_mode": {
    "name": "ipython",
    "version": 3
   },
   "file_extension": ".py",
   "mimetype": "text/x-python",
   "name": "python",
   "nbconvert_exporter": "python",
   "pygments_lexer": "ipython3",
   "version": "3.10.14"
  }
 },
 "nbformat": 4,
 "nbformat_minor": 2
}
